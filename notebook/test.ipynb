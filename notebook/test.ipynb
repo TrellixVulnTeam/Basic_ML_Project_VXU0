{
 "cells": [
  {
   "cell_type": "code",
   "execution_count": 1,
   "metadata": {},
   "outputs": [],
   "source": [
    "#from collections import namedtuple"
   ]
  },
  {
   "cell_type": "markdown",
   "metadata": {},
   "source": [
    "1. Download url\n",
    "2. Download location in local (zip file)\n",
    "3. Extracted folder (decompressed file)\n",
    "4. Train dataset folder\n",
    "5. Test dataset folder"
   ]
  },
  {
   "cell_type": "code",
   "execution_count": 3,
   "metadata": {},
   "outputs": [],
   "source": [
    "import yaml\n",
    "import os"
   ]
  },
  {
   "cell_type": "code",
   "execution_count": 7,
   "metadata": {},
   "outputs": [],
   "source": [
    "yaml_file_path = os.path.join(\"config\",\"config.yaml\")"
   ]
  },
  {
   "cell_type": "code",
   "execution_count": 8,
   "metadata": {},
   "outputs": [],
   "source": [
    "config_info = None\n",
    "with open(yaml_file_path,\"rb\") as yaml_file:\n",
    "    config_info = yaml.safe_load(yaml_file)"
   ]
  },
  {
   "cell_type": "code",
   "execution_count": 11,
   "metadata": {},
   "outputs": [],
   "source": [
    "def read_yaml_file(file_path:str) -> dict:\n",
    "\n",
    "    '''Reads YAML file and returns a dictionary'''\n",
    "\n",
    "    try:\n",
    "        with open(file_path,\"rb\") as yaml_file:\n",
    "            return yaml.safe_load(yaml_file)\n",
    "    except Exception as e:\n",
    "        raise e"
   ]
  },
  {
   "cell_type": "code",
   "execution_count": 26,
   "metadata": {},
   "outputs": [],
   "source": [
    "# read_yaml_file(yaml_file_path)"
   ]
  },
  {
   "cell_type": "code",
   "execution_count": 4,
   "metadata": {},
   "outputs": [],
   "source": [
    "import yaml\n",
    "import os\n",
    "\n",
    "os.chdir('d:\\iNeuron\\Project\\Basic_ML_Project\\Basic_ML_Project')\n",
    "\n",
    "from housing.constant.__init___ import *\n",
    "from housing.config.configuration import Configuration\n",
    "a = Configuration()"
   ]
  },
  {
   "cell_type": "code",
   "execution_count": 9,
   "metadata": {},
   "outputs": [
    {
     "data": {
      "text/plain": [
       "DataIngestionConfig(dataset_download_url='https://raw.githubusercontent.com/ageron/handson-ml/master/datasets/housing/housing.tgz', tgz_download_dir='d:\\\\iNeuron\\\\Project\\\\Basic_ML_Project\\\\Basic_ML_Project\\\\housing\\\\artifact\\\\data_ingestion\\\\2022-07-03_01-40-32\\\\tgz_data', raw_data_dir='d:\\\\iNeuron\\\\Project\\\\Basic_ML_Project\\\\Basic_ML_Project\\\\housing\\\\artifact\\\\data_ingestion\\\\2022-07-03_01-40-32\\\\raw_data', ingested_train_dir='d:\\\\iNeuron\\\\Project\\\\Basic_ML_Project\\\\Basic_ML_Project\\\\housing\\\\artifact\\\\data_ingestion\\\\2022-07-03_01-40-32\\\\ingested_data\\\\train', ingested_test_dir='d:\\\\iNeuron\\\\Project\\\\Basic_ML_Project\\\\Basic_ML_Project\\\\housing\\\\artifact\\\\data_ingestion\\\\2022-07-03_01-40-32\\\\ingested_data\\\\test')"
      ]
     },
     "execution_count": 9,
     "metadata": {},
     "output_type": "execute_result"
    }
   ],
   "source": [
    "a.get_data_ingestion_config()"
   ]
  },
  {
   "cell_type": "code",
   "execution_count": null,
   "metadata": {},
   "outputs": [],
   "source": []
  }
 ],
 "metadata": {
  "kernelspec": {
   "display_name": "Python 3.8.0 (conda)",
   "language": "python",
   "name": "python3"
  },
  "language_info": {
   "codemirror_mode": {
    "name": "ipython",
    "version": 3
   },
   "file_extension": ".py",
   "mimetype": "text/x-python",
   "name": "python",
   "nbconvert_exporter": "python",
   "pygments_lexer": "ipython3",
   "version": "3.8.0"
  },
  "orig_nbformat": 4,
  "vscode": {
   "interpreter": {
    "hash": "d7e7ca67b2ba1c5b02a4cdcb3e39702b01df4e5ac12ef01a2133641920645e02"
   }
  }
 },
 "nbformat": 4,
 "nbformat_minor": 2
}
